{
 "cells": [
  {
   "cell_type": "code",
   "execution_count": 3,
   "id": "ca8bffa1-a2e0-4572-a1d5-fe58f6024a9c",
   "metadata": {},
   "outputs": [
    {
     "name": "stdout",
     "output_type": "stream",
     "text": [
      "2022-01-24 14:46:49.213687\n"
     ]
    }
   ],
   "source": [
    "import requests\n",
    "import datetime\n",
    "dt_now = datetime.datetime.now()\n",
    "print(dt_now)"
   ]
  },
  {
   "cell_type": "code",
   "execution_count": 4,
   "id": "8e026177-cd35-481d-9739-20589da8c160",
   "metadata": {},
   "outputs": [],
   "source": [
    "line_notify_token = '8QW4Xp47y6zsTqnYX2bTQlHtqDzTseBzWqiazNYS6h0'\n",
    "api_url = 'https://notify-api.line.me/api/notify'\n",
    "headers = {'Authorization': 'Bearer ' + line_notify_token}"
   ]
  },
  {
   "cell_type": "code",
   "execution_count": 5,
   "id": "08fe9e66-89a5-49c8-bcfa-ae321ead182a",
   "metadata": {},
   "outputs": [],
   "source": [
    "message = dt_now\n",
    "image = './gakusyo.jpg'  \n",
    "text = {'message': message}\n",
    "photograph = {'imageFile': open(image, 'rb')}\n",
    "r = requests.post(api_url, headers=headers, params=text, files=photograph,)"
   ]
  },
  {
   "cell_type": "code",
   "execution_count": 6,
   "id": "403a0c19-7436-4a44-9fbd-7ee25f4c63dc",
   "metadata": {},
   "outputs": [],
   "source": [
    "message = 'こんにちは'\n",
    "message_sticker = {\n",
    "   'message': message,\n",
    "   'stickerPackageId': 789, #ステッカーパッケージID\n",
    "   'stickerId': 10855,      #ステッカーID\n",
    "   }\n",
    "r = requests.post(api_url, headers=headers, params=message_sticker)"
   ]
  },
  {
   "cell_type": "code",
   "execution_count": null,
   "id": "b5ec6d4a-3832-44d7-9ce1-83f903260429",
   "metadata": {},
   "outputs": [],
   "source": []
  }
 ],
 "metadata": {
  "kernelspec": {
   "display_name": "Python 3",
   "language": "python",
   "name": "python3"
  },
  "language_info": {
   "codemirror_mode": {
    "name": "ipython",
    "version": 3
   },
   "file_extension": ".py",
   "mimetype": "text/x-python",
   "name": "python",
   "nbconvert_exporter": "python",
   "pygments_lexer": "ipython3",
   "version": "3.8.8"
  }
 },
 "nbformat": 4,
 "nbformat_minor": 5
}
