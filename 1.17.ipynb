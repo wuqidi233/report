{
 "cells": [
  {
   "cell_type": "code",
   "execution_count": 66,
   "id": "28b2544b-adcb-4b2c-b71f-0276711de187",
   "metadata": {},
   "outputs": [],
   "source": [
    "for i in range(ord(\"A\"),ord(\"Z\")+1): \n",
    "    f = open(\"./%s\"%chr(i),\"a\")\n",
    "    f.write(\"こんにちは\")\n",
    "    f.close()"
   ]
  },
  {
   "cell_type": "code",
   "execution_count": 67,
   "id": "89a59028-4a0a-438c-af1a-4283f36f032a",
   "metadata": {},
   "outputs": [],
   "source": [
    "for i in range(ord(\"A\"),ord(\"Z\")+1):\n",
    "    f = open(\"./%s\"%chr(i) + chr(i) + \".txt\",\"a\")\n",
    "    f.write(\"こんにちは\")\n",
    "    f.close()"
   ]
  },
  {
   "cell_type": "code",
   "execution_count": 82,
   "id": "2d36edcd-5538-4a62-964c-597d5079cc05",
   "metadata": {},
   "outputs": [],
   "source": [
    "for i in range(ord(\"A\"),ord(\"Z\")+1):\n",
    "    f = open(\"./%s\"%chr(i) + chr(i) + chr(i) + \"_test_\" + dt_now.strftime('_%Y年%m月%d日_%H%M') + \".csv\",\"a\")\n",
    "    f.write(\"こんにちは\")\n",
    "    f.close()"
   ]
  },
  {
   "cell_type": "code",
   "execution_count": 76,
   "id": "cc353d46-cda0-461d-b5e7-326251bd5294",
   "metadata": {},
   "outputs": [
    {
     "name": "stdout",
     "output_type": "stream",
     "text": [
      "2022-01-17 07:14:09.465570\n"
     ]
    }
   ],
   "source": [
    "import datetime\n",
    "dt_now = datetime.datetime.now()\n",
    "print(dt_now)"
   ]
  },
  {
   "cell_type": "code",
   "execution_count": 1,
   "id": "828017ba-0687-4741-bd37-1d99c13d768d",
   "metadata": {},
   "outputs": [
    {
     "name": "stdout",
     "output_type": "stream",
     "text": [
      "65\n"
     ]
    }
   ],
   "source": [
    "print(ord(\"A\"))"
   ]
  },
  {
   "cell_type": "code",
   "execution_count": 2,
   "id": "16e4ff3d-2826-417b-a68a-42598bdf0a3a",
   "metadata": {},
   "outputs": [
    {
     "name": "stdout",
     "output_type": "stream",
     "text": [
      "A\n"
     ]
    }
   ],
   "source": [
    "print(chr(65))"
   ]
  },
  {
   "cell_type": "code",
   "execution_count": 3,
   "id": "d9ab2b29-c8a0-483a-b163-cfb30b1a54b2",
   "metadata": {},
   "outputs": [
    {
     "name": "stdout",
     "output_type": "stream",
     "text": [
      "90\n"
     ]
    }
   ],
   "source": [
    "print(ord(\"Z\"))"
   ]
  },
  {
   "cell_type": "code",
   "execution_count": 4,
   "id": "9ff45b42-f87d-426b-a5c3-68370001d1ed",
   "metadata": {},
   "outputs": [
    {
     "name": "stdout",
     "output_type": "stream",
     "text": [
      "Z\n"
     ]
    }
   ],
   "source": [
    "print(chr(90))"
   ]
  },
  {
   "cell_type": "code",
   "execution_count": 5,
   "id": "7d515e84-283c-4e39-b9fb-98087f50b253",
   "metadata": {},
   "outputs": [
    {
     "name": "stdout",
     "output_type": "stream",
     "text": [
      "[\n"
     ]
    }
   ],
   "source": [
    "print(chr(91))"
   ]
  },
  {
   "cell_type": "code",
   "execution_count": null,
   "id": "a3edb237-098f-41ef-ab8f-2e6d60aa8063",
   "metadata": {},
   "outputs": [],
   "source": []
  }
 ],
 "metadata": {
  "kernelspec": {
   "display_name": "Python 3",
   "language": "python",
   "name": "python3"
  },
  "language_info": {
   "codemirror_mode": {
    "name": "ipython",
    "version": 3
   },
   "file_extension": ".py",
   "mimetype": "text/x-python",
   "name": "python",
   "nbconvert_exporter": "python",
   "pygments_lexer": "ipython3",
   "version": "3.8.8"
  }
 },
 "nbformat": 4,
 "nbformat_minor": 5
}
